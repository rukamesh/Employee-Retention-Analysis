{
 "cells": [
  {
   "cell_type": "markdown",
   "metadata": {},
   "source": [
    "### Model Comparision and Final Model Evaluation with cross validation and HyperParameter Tuning"
   ]
  },
  {
   "cell_type": "code",
   "execution_count": 2,
   "metadata": {
    "collapsed": false
   },
   "outputs": [
    {
     "name": "stderr",
     "output_type": "stream",
     "text": [
      "/usr/lib/python2.7/dist-packages/matplotlib/font_manager.py:273: UserWarning: Matplotlib is building the font cache using fc-list. This may take a moment.\n",
      "  warnings.warn('Matplotlib is building the font cache using fc-list. This may take a moment.')\n"
     ]
    }
   ],
   "source": [
    "from __future__ import division\n",
    "import pandas as pd\n",
    "import numpy as np\n",
    "import matplotlib.mlab as mlab\n",
    "import matplotlib.pyplot as plt\n",
    "%matplotlib inline\n",
    "\n",
    "\n",
    "plt.style.use('ggplot')\n",
    "\n",
    "blue_color =  '#7F7FFF'\n",
    "red_color = '#BF3F7F'\n",
    "green_color = '#9ACD32'"
   ]
  },
  {
   "cell_type": "code",
   "execution_count": 3,
   "metadata": {
    "collapsed": false
   },
   "outputs": [
    {
     "name": "stdout",
     "output_type": "stream",
     "text": [
      "Train Dataset rows: 11999 \n",
      "Test Dataset rows: 3000 \n"
     ]
    }
   ],
   "source": [
    "from sklearn.model_selection import train_test_split\n",
    "\n",
    "df = pd.read_csv('HR_Data.csv')\n",
    "\n",
    "# Convert all nominal to numeric.\n",
    "df['sales'].replace(['sales', 'accounting', 'hr', 'technical', 'support', 'management',\n",
    "        'IT', 'product_mng', 'marketing', 'RandD'], [0, 1, 2, 3, 4, 5, 6, 7, 8, 9], inplace = True)\n",
    "df['salary'].replace(['low', 'medium', 'high'], [0, 1, 2], inplace = True)\n",
    "###########################################\n",
    "# Train & Test Data\n",
    "\n",
    "df_X = df.copy()\n",
    "df_y = df_X['left']\n",
    "del df_X['left']\n",
    "\n",
    "df_train_X, df_test_X, df_train_Y, df_test_Y = train_test_split(df_X, df_y, test_size = 0.2, random_state = 1234)\n",
    "\n",
    "print(\"Train Dataset rows: {} \".format(df_train_X.shape[0]))\n",
    "print(\"Test Dataset rows: {} \".format(df_test_X.shape[0]))\n"
   ]
  },
  {
   "cell_type": "code",
   "execution_count": 4,
   "metadata": {
    "collapsed": false
   },
   "outputs": [
    {
     "name": "stdout",
     "output_type": "stream",
     "text": [
      "CV accuracy scores: [ 0.58052434  0.59236948  0.59608541]\n",
      "('LogisticRegression', 'CV accuracy: 0.590 +/- 0.007')\n",
      "CV accuracy scores: [ 0.56422018  0.59114583  0.55319149]\n",
      "('RidgeClassifier', 'CV accuracy: 0.570 +/- 0.016')\n",
      "CV accuracy scores: [ 0.56422018  0.59114583  0.55319149]\n",
      "('RidgeClassifierCV', 'CV accuracy: 0.570 +/- 0.016')\n",
      "CV accuracy scores: [ 0.99665179  0.99107143  0.98704104]\n",
      "('RandomForestClassifier', 'CV accuracy: 0.992 +/- 0.004')\n",
      "CV accuracy scores: [ 0.97330367  0.96349558  0.9613319 ]\n",
      "('GradientBoostingClassifier', 'CV accuracy: 0.966 +/- 0.005')\n"
     ]
    }
   ],
   "source": [
    "from sklearn.linear_model import RidgeClassifier, RidgeClassifierCV, SGDClassifier,LogisticRegression\n",
    "from sklearn.ensemble import GradientBoostingClassifier\n",
    "from sklearn.ensemble import RandomForestClassifier\n",
    "from sklearn.model_selection import cross_val_score\n",
    "# list of tuples: the first element is a string, the second is an object\n",
    "estimators = [('LogisticRegression', LogisticRegression()),('RidgeClassifier', RidgeClassifier()), ('RidgeClassifierCV', RidgeClassifierCV()),\\\n",
    "              ('RandomForestClassifier', RandomForestClassifier()), ('GradientBoostingClassifier', GradientBoostingClassifier())]\n",
    "\n",
    "for estimator in estimators:\n",
    "    scores = cross_val_score(estimator=estimator[1],\n",
    "                            X=df_train_X,\n",
    "                            y=df_train_Y,\n",
    "                            cv=3,\n",
    "                            scoring='precision', \n",
    "                            n_jobs=-1)\n",
    "    print('CV accuracy scores: %s' % scores)\n",
    "    print(estimator[0], 'CV accuracy: %.3f +/- %.3f' % (np.mean(scores), np.std(scores)))"
   ]
  },
  {
   "cell_type": "markdown",
   "metadata": {},
   "source": [
    "### we can say on this data set RandomForestClassifier gives better result than all other algorithms after cross validation "
   ]
  },
  {
   "cell_type": "code",
   "execution_count": 5,
   "metadata": {
    "collapsed": false
   },
   "outputs": [
    {
     "name": "stdout",
     "output_type": "stream",
     "text": [
      "{'max_features': 4, 'n_estimators': 30, 'criterion': 'gini', 'min_samples_leaf': 1}\n"
     ]
    }
   ],
   "source": [
    "###########################################\n",
    "\n",
    "from sklearn.ensemble import RandomForestClassifier\n",
    "from sklearn.metrics import accuracy_score\n",
    "from sklearn.model_selection import GridSearchCV\n",
    "\n",
    "rf = RandomForestClassifier()\n",
    "\n",
    "\n",
    "param_grid = {\n",
    "    'n_estimators': [10, 15, 20, 25, 30],\n",
    "    'max_features': ['auto', 2,3,4,5],\n",
    "    'min_samples_leaf': [1, 3, 5],\n",
    "    'criterion': [\"gini\", \"entropy\"]\n",
    "}\n",
    "CV_rfc = GridSearchCV(estimator=rf, param_grid=param_grid, cv= 5)\n",
    "CV_rfc.fit(df_train_X, df_train_Y)\n",
    "print(CV_rfc.best_params_)"
   ]
  },
  {
   "cell_type": "markdown",
   "metadata": {},
   "source": [
    "### Below section show the final model using RandomForestClassifier with accuracy 99% on test data set"
   ]
  },
  {
   "cell_type": "code",
   "execution_count": 6,
   "metadata": {
    "collapsed": false
   },
   "outputs": [
    {
     "name": "stdout",
     "output_type": "stream",
     "text": [
      "Accuracy (Train) 0.9995\n",
      "Accuracy (Test) 0.9900\n"
     ]
    },
    {
     "data": {
      "text/plain": [
       "array([[2262,    3],\n",
       "       [  27,  708]])"
      ]
     },
     "execution_count": 6,
     "metadata": {},
     "output_type": "execute_result"
    }
   ],
   "source": [
    "#############################################\n",
    "from sklearn.ensemble import RandomForestClassifier\n",
    "from sklearn.metrics import confusion_matrix\n",
    "\n",
    "rf = RandomForestClassifier(n_estimators =30, max_features=3, min_samples_leaf=1, criterion='gini')\n",
    "\n",
    "rf.fit(df_train_X, df_train_Y)\n",
    "train_accuracy = rf.score(df_train_X, df_train_Y)\n",
    "print(\"Accuracy (Train) {:.04f}\".format(train_accuracy))\n",
    "\n",
    "test_accuracy = rf.score(df_test_X, df_test_Y)\n",
    "print(\"Accuracy (Test) {:.04f}\".format(test_accuracy))\n",
    "pred_y = rf.predict(df_test_X)\n",
    "#prediction_train = rf.predict(df_train_X)\n",
    "confusion_matrix(df_test_Y, pred_y)\n",
    "#confusion_matrix(df_train_Y, prediction_train)"
   ]
  },
  {
   "cell_type": "code",
   "execution_count": 7,
   "metadata": {
    "collapsed": false
   },
   "outputs": [
    {
     "name": "stdout",
     "output_type": "stream",
     "text": [
      "nFeatures sorted by importance (DESC):nIndex([u'satisfaction_level', u'time_spend_company', u'number_project',\n",
      "       u'average_montly_hours', u'last_evaluation'],\n",
      "      dtype='object')\n"
     ]
    },
    {
     "data": {
      "image/png": "[encoded data removed]",
      "text/plain": [
       "<matplotlib.figure.Figure at 0x7f04ae489b90>"
      ]
     },
     "metadata": {},
     "output_type": "display_data"
    }
   ],
   "source": [
    "feature_importance = rf.feature_importances_\n",
    "features_list = df.columns\n",
    "\n",
    "# make importances relative to max importance\n",
    "feature_importance = 100.0 * (feature_importance / feature_importance.max())\n",
    "\n",
    "# A threshold below which to drop features from the final data set. Specifically, this number represents\n",
    "# the percentage of the most important feature's importance value\n",
    "fi_threshold = 15\n",
    "\n",
    "# Get the indexes of all features over the importance threshold\n",
    "important_idx = np.where(feature_importance > fi_threshold)[0]\n",
    "\n",
    "# Create a list of all the feature names above the importance threshold\n",
    "important_features = features_list[important_idx]\n",
    "#print \"n\", important_features.shape[0], \"Important features(>\", fi_threshold, \"% of max importance):n\", \n",
    "#        important_features\n",
    "\n",
    "# Get the sorted indexes of important features\n",
    "sorted_idx = np.argsort(feature_importance[important_idx])[::-1]\n",
    "print(\"nFeatures sorted by importance (DESC):n\" + str(important_features[sorted_idx]))\n",
    "\n",
    "# Adapted from http://scikit-learn.org/stable/auto_examples/ensemble/plot_gradient_boosting_regression.html\n",
    "pos = np.arange(sorted_idx.shape[0]) + .5\n",
    "plt.subplot(1, 2, 2)\n",
    "plt.barh(pos, feature_importance[important_idx][sorted_idx[::-1]], align='center')\n",
    "plt.yticks(pos, important_features[sorted_idx[::-1]])\n",
    "plt.xlabel('Relative Importance')\n",
    "plt.title('Variable Importance')\n",
    "plt.draw()\n",
    "plt.show()"
   ]
  },
  {
   "cell_type": "markdown",
   "metadata": {},
   "source": [
    "# Results and Comments\n",
    "1. Satisfaction-Level: Which ever the way it is computed is the strongest predictor of employees who left.\n",
    "2. RandomForest gave a pretty accurate prediction with Training Accuracy of 99.9% and Test Accuracy of 99.0%"
   ]
  },
  {
   "cell_type": "markdown",
   "metadata": {},
   "source": [
    "# Confusion Matrix\n",
    "array([[2262,    3],\n",
    "       [  26,  709]])\n",
    "TP = 709, FN = 26\n",
    "FP = 3, TN = 2262\n",
    "1. Recall: 96.46% (Percentage of Predicted-Actual-churners(TP) from Total Churners) (TP/TP+FN)\n",
    "2. Precision: 99.57% (Percentage of Actual-churners from Predicted Churners) (TP/TP+FP)\n",
    "3. Test-set Employees Retained = 2265\n",
    "4. Test-set Employees Left = 735\n",
    "5. This Model has more Type II error i.e. more FN (as compared to Type I error), which means some employees who left.\n",
    "6. the company are not predicted as Churners. If this company wants to put more emphasis on retaining, we need to reduce Type II error.\n",
    "7. Although it looks like we are achieving 99% Accuracy (which is very good) but it's useless if Precision & Recall are not evaluated. "
   ]
  }
 ],
 "metadata": {
  "kernelspec": {
   "display_name": "Python 2",
   "language": "python",
   "name": "python2"
  },
  "language_info": {
   "codemirror_mode": {
    "name": "ipython",
    "version": 2
   },
   "file_extension": ".py",
   "mimetype": "text/x-python",
   "name": "python",
   "nbconvert_exporter": "python",
   "pygments_lexer": "ipython2",
   "version": "2.7.12"
  }
 },
 "nbformat": 4,
 "nbformat_minor": 1
}
